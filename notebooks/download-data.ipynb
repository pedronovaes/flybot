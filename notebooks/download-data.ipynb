{
 "cells": [
  {
   "cell_type": "markdown",
   "id": "dee9588e",
   "metadata": {},
   "source": [
    "#### Libs"
   ]
  },
  {
   "cell_type": "code",
   "execution_count": 1,
   "id": "b4089b53",
   "metadata": {},
   "outputs": [],
   "source": [
    "%load_ext autoreload\n",
    "%autoreload 2"
   ]
  },
  {
   "cell_type": "code",
   "execution_count": 2,
   "id": "4027ce13",
   "metadata": {},
   "outputs": [],
   "source": [
    "import sys\n",
    "\n",
    "flybot_path = '../flybot'\n",
    "\n",
    "if flybot_path not in sys.path:\n",
    "    sys.path.append(flybot_path)\n",
    "\n",
    "from dataprep.data import get_data"
   ]
  },
  {
   "cell_type": "markdown",
   "id": "a86f53a7",
   "metadata": {},
   "source": [
    "#### Get data"
   ]
  },
  {
   "cell_type": "code",
   "execution_count": 3,
   "id": "526cd50a",
   "metadata": {},
   "outputs": [],
   "source": [
    "local_file = '../data/db/travel2.sqlite'\n",
    "backup_file = '../data/db/travel2.backup.sqlite'"
   ]
  },
  {
   "cell_type": "code",
   "execution_count": 4,
   "id": "08c70e88",
   "metadata": {},
   "outputs": [
    {
     "name": "stdout",
     "output_type": "stream",
     "text": [
      "Downloading data...\n",
      "Flight data download with success.\n"
     ]
    }
   ],
   "source": [
    "get_data(file=local_file, backup_file=backup_file, overwrite=True)"
   ]
  },
  {
   "cell_type": "code",
   "execution_count": null,
   "id": "08deb720",
   "metadata": {},
   "outputs": [],
   "source": []
  }
 ],
 "metadata": {
  "kernelspec": {
   "display_name": "venv (3.12.3)",
   "language": "python",
   "name": "python3"
  },
  "language_info": {
   "codemirror_mode": {
    "name": "ipython",
    "version": 3
   },
   "file_extension": ".py",
   "mimetype": "text/x-python",
   "name": "python",
   "nbconvert_exporter": "python",
   "pygments_lexer": "ipython3",
   "version": "3.12.3"
  }
 },
 "nbformat": 4,
 "nbformat_minor": 5
}
